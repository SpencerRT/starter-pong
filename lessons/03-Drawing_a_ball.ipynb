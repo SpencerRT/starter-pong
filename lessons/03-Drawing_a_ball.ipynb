{
 "cells": [
  {
   "cell_type": "markdown",
   "metadata": {},
   "source": [
    "### 03-Drawing_a_ball\n",
    "\n",
    "**Note** - This lesson assumes `pong\\main.py` is up to date with `lessons\\milestones\\02-Creating_a_window`.\n",
    "\n",
    "\n",
    "It's ***finally*** time to get started ***making the game***. This lesson we will concern ourselves with putting the ball from `Pong` on screen!\n",
    "\n",
    "We will do so by making a `class` for the `Ball`, so in order to do so, we must think about what composes (what makes up) a ball in `Pong`? \n",
    "\n",
    "Since this lesson is only concerning ourselves with ***drawing*** a ball, let's just think about what we need to just draw. So what is a ball in `Pong`?\n",
    "\n",
    "Well, I can see that a ball is square. There's actually only value we need to know in order to create a square; since all sides' length is equal to it. Therefore, we know our `Ball` class will need a `self.side_length` member. "
   ]
  },
  {
   "cell_type": "markdown",
   "metadata": {},
   "source": [
    "### Coming up with a get_rect() for a Ball (square)\n",
    "\n",
    "Before we go ahead and try to implement a `Ball` class for `Pong`, let's see if we can utilize this knowledge that we only need to know the ***side_length*** to draw a square.\n",
    "\n",
    "Just passed the comment that says \"draw the ball\", ***draw the ball***. A hint:\n",
    "- The canvas method to draw a rectangle has the following signature:\n",
    "    - `def fill_rect(x: Any, y: Any, width: Any, height: Any) -> None`"
   ]
  },
  {
   "cell_type": "code",
   "execution_count": null,
   "metadata": {},
   "outputs": [],
   "source": [
    "from ipycanvas import Canvas\n",
    "\n",
    "canvas_width = 640\n",
    "canvas_height = 480\n",
    "\n",
    "# get a canvas to draw on\n",
    "canvas = Canvas(width=canvas_width, height=canvas_height)\n",
    "\n",
    "# set the fill color to black\n",
    "canvas.fill_color = \"black\"\n",
    "\n",
    "# draw canvas outline\n",
    "canvas.stroke_rect(0, 0, width=canvas_width, height=canvas_height)\n",
    "\n",
    "# draw the ball\n",
    "\n",
    "# draw canvas\n",
    "canvas"
   ]
  },
  {
   "cell_type": "markdown",
   "metadata": {},
   "source": [
    "By this point you must have realized that, we also need ***another*** piece of data--***a position***. The following is an interactive demo showing you why!"
   ]
  },
  {
   "cell_type": "code",
   "execution_count": null,
   "metadata": {},
   "outputs": [],
   "source": [
    "from ipycanvas import Canvas\n",
    "from IPython.display import display\n",
    "import ipywidgets as widgets\n",
    "\n",
    "canvas_width = 640\n",
    "canvas_height = 480\n",
    "\n",
    "# get a canvas to draw on\n",
    "canvas = Canvas(width=canvas_width, height=canvas_height)\n",
    "\n",
    "# set the fill color to black\n",
    "canvas.fill_color = \"black\"\n",
    "\n",
    "# The interact decorator allows this function to be called every time a slider has changed\n",
    "@widgets.interact(x=(0, canvas_width), y=(0, canvas_height), side_length=(10, 100))\n",
    "def draw_callback(x=0, y=0, side_length=10):\n",
    "    global canvas\n",
    "\n",
    "    # clear the canvas \n",
    "    canvas.clear()\n",
    "\n",
    "    # draw canvas outline\n",
    "    canvas.stroke_rect(0, 0, width=canvas_width, height=canvas_height)\n",
    "\n",
    "    # draw the ball\n",
    "    canvas.fill_rect(x, y, side_length, side_length)\n",
    "    \n",
    "    # draw canvas\n",
    "    canvas\n",
    "\n",
    "canvas"
   ]
  },
  {
   "cell_type": "markdown",
   "metadata": {},
   "source": [
    "### Breaking down canvas.fill_rect()\n",
    "\n",
    "Try playing with the above demo, do you notice anything when either `x` or `y` is at their maximum values? (640 and 480 respectively). They are ***no longer visible***.\n",
    "\n",
    "This is because they have been ***clipped*** to the boundaries of the `canvas`.\n",
    "\n",
    "What about when either `x` or `y` is at their minimum values (in this case 0)? They ***do not clip!***. Why?\n",
    "\n",
    "This is because `canvas.fill_rect()` assumes that the `x` and `y` values you give it are the coordinates of the ***top left corner*** of the rectangle you want to draw.\n",
    "This can become a problem in games, because if ***the square is the ball***, then we wouldn't consider its ***position*** to be at the top left corner would we? We'd consider it to be somewhere in the center!\n",
    "\n",
    "Let's rework from here, since we know the side_length, and that both `x` and `y` should be at ***the center of the rect***, then that means:\n",
    "- The `draw_x` and `draw_y` that goes into `canvas.fill_rect` is not equal to `x` and `y`, but is equal to:\n",
    "    - `draw_x = x - (side_length / 2)`\n",
    "    - `draw_y = y - (side_length) / 2`\n",
    "\n",
    "This is how we make sure the `x` and `y` we are using signify the center of our ball. Let's make these changes and see what happens:"
   ]
  },
  {
   "cell_type": "code",
   "execution_count": null,
   "metadata": {},
   "outputs": [],
   "source": [
    "from ipycanvas import Canvas\n",
    "from IPython.display import display\n",
    "import ipywidgets as widgets\n",
    "\n",
    "canvas_width = 640\n",
    "canvas_height = 480\n",
    "\n",
    "# get a canvas to draw on\n",
    "canvas = Canvas(width=canvas_width, height=canvas_height)\n",
    "\n",
    "# set the fill color to black\n",
    "canvas.fill_color = \"black\"\n",
    "\n",
    "# The interact decorator allows this function to be called every time a slider has changed\n",
    "@widgets.interact(x=(0, canvas_width), y=(0, canvas_height), side_length=(10, 100))\n",
    "def draw_callback(x=0, y=0, side_length=100):\n",
    "    global canvas\n",
    "\n",
    "    # clear the canvas \n",
    "    canvas.clear()\n",
    "\n",
    "    # draw canvas outline\n",
    "    canvas.stroke_rect(0, 0, width=canvas_width, height=canvas_height)\n",
    "\n",
    "    # draw the ball\n",
    "    draw_x = x - (side_length / 2)\n",
    "    draw_y = y - (side_length / 2)\n",
    "    canvas.fill_rect(draw_x, draw_y, side_length, side_length)\n",
    "    \n",
    "    # draw canvas\n",
    "    canvas\n",
    "\n",
    "canvas"
   ]
  },
  {
   "cell_type": "markdown",
   "metadata": {},
   "source": [
    "What the heck, it's ***clipping*** again!\n",
    "\n",
    "That's because now, even though `x` and `y` are bounded to our canvas dimensions (640 x 480), the `canvas.fill_rect()` is trying to ***draw passed the boundaries*** at the extremes. \n",
    "\n",
    "In general, ***this is fine***. If our canvas is just ***a viewport (camera) into our world***, then it's fine that clipping occurs, because now our ball's position properly represents the center of the object, and we can properly see that representation by the fact that the object clips with all sides! "
   ]
  },
  {
   "cell_type": "markdown",
   "metadata": {},
   "source": [
    "### Translating this to `pygame`\n",
    "\n",
    "So we now know that representing our `Ball` class as of now takes three pieces of data:\n",
    "- A `side_length`\n",
    "- A `position`\n",
    "- A `color`\n",
    "\n",
    "Which is really just:\n",
    "- `int`\n",
    "- `float, float`\n",
    "- `str`\n",
    "\n",
    "What the heck is a `float, float`? In game programming, since this `float, float` represents a 2D Cartesian coordinate `(x, y)`, we will use something called a `Vector` to represent a `float, float`. More succinctly, we will use a `Vector2`, which can be read as \"Vector 2D\". ***Vectors*** are its own topic, but for now we can think of them as ***tuples***, where a `Vector2` is a `tuple` of size 2, and a `Vector3` is a `tuple` of size 3.\n",
    "\n",
    "So let's get this `Ball` class into our game:"
   ]
  },
  {
   "cell_type": "code",
   "execution_count": null,
   "metadata": {},
   "outputs": [],
   "source": [
    "import pygame # Don't copy me (I'm already in main.py)\n",
    "\n",
    "class Ball:\n",
    "    def __init__(self, side_length: int, position: pygame.Vector2, color: str):\n",
    "        self.side_length = side_length\n",
    "        self.position = position\n",
    "        self.color = color\n",
    "    \n",
    "    def get_position(self) -> pygame.Vector2:\n",
    "        return self.position\n",
    "\n",
    "    def set_position(self, new_position: pygame.Vector2) -> None:\n",
    "        self.position = new_position\n",
    "\n",
    "    def get_rect() -> pygame.Rect:\n",
    "        # Quiz 4: Fill me in!\n",
    "        pass\n"
   ]
  },
  {
   "cell_type": "markdown",
   "metadata": {},
   "source": [
    "### Quiz 4 - Implementing a Ball\n",
    "\n",
    "Your tasks are the following:\n",
    "- ***Copy*** the above `Ball` class to your game (`main.py`), and complete it by ***implementing the method `get_rect() -> pygame.Rect`***\n",
    "    - The `pygame.Rect` class has the following constructor signature:\n",
    "        - `def __init__(top: float, left: float, width: float, height: float)`\n",
    "        - **Hints:**\n",
    "            - `top` and `left` represent the same thing as `draw_x` and `draw_y`\n",
    "            - `self.position` is a `pygame.Vector2`, where you can access its members like so:\n",
    "                - `x` --> `self.position.x`\n",
    "                - `y` --> `self.position.y`\n",
    "\n",
    "- ***Append (copy)*** the following to your `data/settings.ini`:\n",
    "```\n",
    "[Ball]\n",
    "side_length = 10\n",
    "color = white\n",
    "```\n",
    "\n",
    "- ***Construct*** an instance of your Ball, using the settings within `data/settings.ini` (the side_length and color), and ***draw*** it at the center of the screen. The following should be helpful in understanding where to construct your ball, and how to draw it!"
   ]
  },
  {
   "cell_type": "code",
   "execution_count": null,
   "metadata": {},
   "outputs": [],
   "source": [
    "def get_screen_center(width: float, height: float) -> pygame.Vector2:\n",
    "    return pygame.Vector2(width / 2, height / 2)\n",
    "\n",
    "def loop(self):\n",
    "    print(\"[PONG]: Game has started.\")\n",
    "\n",
    "    # Construct an instance of a ball at screen center\n",
    "    #ball = Ball(<get side length from settings.ini>, \n",
    "    #        get_screen_center(),\n",
    "    #        <get ball color from settings.ini>))\n",
    "\n",
    "    self.is_running = True\n",
    "\n",
    "    while self.is_running:\n",
    "        for event in pygame.event.get():\n",
    "            if event.type == pygame.QUIT:\n",
    "                self.is_running = False\n",
    "\n",
    "        self.screen.fill(\"black\")\n",
    "\n",
    "        # Draw the ball\n",
    "        #pygame.draw.rect(self.screen, ball.color, ball.get_rect())\n",
    "\n",
    "        pygame.display.flip()\n",
    "\n",
    "    print(\"[PONG]: Game has ended.\")"
   ]
  }
 ],
 "metadata": {
  "kernelspec": {
   "display_name": "Python 3",
   "language": "python",
   "name": "python3"
  },
  "language_info": {
   "codemirror_mode": {
    "name": "ipython",
    "version": 3
   },
   "file_extension": ".py",
   "mimetype": "text/x-python",
   "name": "python",
   "nbconvert_exporter": "python",
   "pygments_lexer": "ipython3",
   "version": "3.10.6"
  }
 },
 "nbformat": 4,
 "nbformat_minor": 2
}
