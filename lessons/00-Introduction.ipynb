{
 "cells": [
  {
   "cell_type": "markdown",
   "metadata": {},
   "source": [
    "# 00-Introduction\n",
    "\n",
    "Welcome to a *`Gamer's Guide to Game Programming`*, a short, tutorial based, fully guided course on learning some fundamentals of Game Programming. By the end of this course, <ins>**YOU**</ins> will have programmed a recreation of *`Pong`* in `python`, and produce a traditional `.exe` video game that you can just double click and run."
   ]
  },
  {
   "cell_type": "markdown",
   "metadata": {},
   "source": [
    "## Table of Contents <a name=\"toc\"></a>\n",
    "1. [Introduction](#introduction)\n",
    "2. [Setup your environment](#setup)\n",
    "    1. [Forking the repository](#fork)\n",
    "    2. [Cloning your fork](#clone)\n",
    "    3. [Setting up VSCode](#vscode)\n",
    "    4. [Opening your fork in VSCode](#openvscode)\n",
    "    5. [Running the Jupyter Notebook demo](#demo)\n",
    "    6. [First commit](#commit)\n",
    "3. [Curriculum](#toc)\n",
    "    1. [The game loop](./01-The_game_loop.ipynb)\n",
    "    2. [Creating a window](./02-Creating_a_window.ipynb)\n",
    "    3. [Drawing a ball](./03-Drawing_a_ball.ipynb)\n",
    "    4. [Moving the ball](./04-Moving_the_ball.ipynb)\n"
   ]
  },
  {
   "cell_type": "markdown",
   "metadata": {},
   "source": [
    "\n",
    "### Introduction <a name=\"introduction\"></a>\n",
    "The overall goal of this guide is to communicate what a `game loop` looks like, and how to write gameplay code to work with it. It's not meant to be a tutorial series on `pygame` or `python` in general. However, since *some* knowledge of these and some additional things are required to make any game to begin with, this guide will cover the necessary basics to get one started.\n",
    "\n",
    "Unfortunately `pygame` is not able to be run \"inside\" a `Jupyter Notebook` where it renders to a markdown cell instead of a native window, therefore this tutorial will make use of `ipycanvas + ipywidgets` to render interactive concepts inside the notebook where needed in a lesson."
   ]
  },
  {
   "cell_type": "markdown",
   "metadata": {},
   "source": [
    "## Setup your environment <a name=\"setup\"></a>"
   ]
  },
  {
   "cell_type": "markdown",
   "metadata": {},
   "source": [
    "### Forking the repository <a name=\"fork\"></a>\n",
    "We will use `git` as our `source control` tool (a way to save our progress). We will start by \"forking\" (creating your own version) this code repository.\n",
    "1. Ensure you are signed into `GitHub`, then navigate to [https://github.com/Stehfyn/starter-pong/](https://github.com/Stehfyn/starter-pong/),\n",
    "2. Select `Fork`\n",
    "\n",
    "![forkimg](img/fork.png)\n",
    "\n",
    "3. Optionally modify `Repository name`, then select `Create fork`\n",
    "\n",
    "![createforkimg](img/createfork.png)"
   ]
  },
  {
   "cell_type": "markdown",
   "metadata": {},
   "source": [
    "### Cloning your fork <a name=\"clone\"></a>\n",
    "Next, we will `clone` your new `fork` to your local file system (download to your computer).\n",
    "1. Download and set up [`GitHub Desktop`](https://desktop.github.com/). I recommend following the [first-party walkthrough](https://docs.github.com/en/desktop/installing-and-authenticating-to-github-desktop/setting-up-github-desktop).\n",
    "2. Next, select `File > Clone repository`.\n",
    "\n",
    "![addimg](img/add.png)\n",
    "\n",
    "3. Under `Your repositories`, find and select your fork of this repository (with the optional new name you may have chosen), choose the `Local path` (the place on your computer) to clone (download) the repository, then select `Clone`.\n",
    "\n",
    "![cloneimg](img/clone.png)"
   ]
  },
  {
   "cell_type": "markdown",
   "metadata": {},
   "source": [
    "### Setting up VSCode <a name=\"vscode\"></a>\n",
    "Now we will set up our code editor `VSCode` to be ready for use to follow this guide. This guide assumes you already have `python3.8` or higher installed on your system.\n",
    "1. Follow the 3 minute video [How to Install Jupyter Notebook in VSCode](https://www.youtube.com/watch?v=xS5ZXOC4e6A) to install the necessary addon to our environment to run `Jupyter Notebooks` inside `VSCode`.\n",
    "2. At [1:52](https://youtu.be/xS5ZXOC4e6A?si=X-sTn5VNlTut-eGd&t=112) you're asked to select a `base interpreter`. This just means what `python` installation you want to use to \"serve\" your `Jupyter Notebook`s. Our next step is to install the necessary `packages` for that specific `python` installation for use in this guide.\n",
    "\n",
    "To do so, we must open up a `terminal`. We will access the terminal later using `VSCode`, to start though we will do so from `GitHub Desktop`. \n",
    "\n",
    "With `GitHub Desktop` open and with your cloned `fork` selected as your `Current repository`, select `Repository > Open in Command Prompt`.\n",
    "\n",
    "3. First, we will now check how your `python` installation is aliased in your environment. Execute the following in the `Command Prompt`:\n",
    "```\n",
    "python --version\n",
    "```\n",
    "If this \"works\" and outputs a version, ensure it's the same exact version as the `base interpreter` you've chosen in step 1. If it doesn't work, your `python` installation is likely aliased under `python3`, which you should try and execute:\n",
    "```\n",
    "python3 --version\n",
    "```\n",
    "If the output matches the `base interpreter` you've chosen in step 1,we will now install our package dependencies. If for example it was `python3` that worked, execute the following in the `Command Prompt`:\n",
    "```\n",
    "python3 -m pip install -r requirements.txt\n",
    "```"
   ]
  },
  {
   "cell_type": "markdown",
   "metadata": {},
   "source": [
    "### Opening your fork in VSCode <a name=\"openvscode\"></a>\n",
    "We're almost ready to get started! The last command in the terminal *should* have taken care of installing all the dependencies needed. Now it's time to fire up `VSCode` and open our forked repository.\n",
    "\n",
    "There's a couple of ways to do this, and we'll cover four of them:"
   ]
  },
  {
   "cell_type": "markdown",
   "metadata": {},
   "source": [
    "#### From VSCode\n",
    "1. With `VSCode` open, select `File > Open Folder`:\n",
    "\n",
    "![openfromvsimg](img/openfromvs.png)\n",
    "\n",
    "2. Navigate to the `Local path` selected in [Cloning your fork](#clone). Select the parent directory (this is `starter-pong` by default). Then select `Open Folder`:\n",
    "\n",
    "![openfromvsfolderimg](img/openfromvsfolder.png)"
   ]
  },
  {
   "cell_type": "markdown",
   "metadata": {},
   "source": [
    "#### From GitHub Desktop\n",
    "1. With `GitHub Desktop` open, select `Repository > Open with Visual Studio Code`.\n",
    "\n",
    "![openfromghdimg](img/openfromghd.png)\n",
    "\n",
    "**Note** - This can be changed to another code editor via `File > Options > Integrations` and modifying `External Editor`."
   ]
  },
  {
   "cell_type": "markdown",
   "metadata": {},
   "source": [
    "#### From the context menu\n",
    "During the installation of `VSCode`, it's likely it asked if you wanted to add `VSCode` to your `context menu`. If it has been added we can simply do the following:\n",
    "1. Open the `Local path` selected in [Cloning your fork](#clone) with `File Explorer`.\n",
    "2. Right-click anywhere not on a file to open your `context menu`.\n",
    "3. Select `Open with Code`\n",
    "\n",
    "![openfromcontextimg](img/openfromcontext.png)"
   ]
  },
  {
   "cell_type": "markdown",
   "metadata": {},
   "source": [
    "#### From the terminal\n",
    "1. With `GitHub Desktop` open, select `Repository > Open in Command Prompt`.\n",
    "2. Execute `code .`\n",
    "\n",
    "![codedotimg](img/codedot.png)\n",
    "\n",
    "**Note** - the `.` here signifies a `path` argument to `code`. `.` translates to \"here\". Therefore `code .` just means ... open `VSCode` here!"
   ]
  },
  {
   "cell_type": "markdown",
   "metadata": {},
   "source": [
    "### Running the Jupyter Notebook demo <a name=\"demo\"></a>\n",
    "Now it's time finally time to run some code! We will try and run the following cells. If we have set up our environment properly, they should execute just fine.\n",
    "\n",
    "1. With your forked repository open in `VSCode`, select the `Explorer` button to see your file system:\n",
    "\n",
    "![explorerimg](img/explorer.png)\n",
    "\n",
    "2. Select `lessons > 00-Introduction.ipynb`\n",
    "\n",
    "![nbinvs](img/nbinvs.png)\n",
    "\n",
    "**Note** - Take note of `Outline` in the lower left corner. This is your functioning `Table of Contents` when in `VSCode`. Try it out!\n",
    "\n",
    "3. Execute the following code cells:\n",
    "    1. [Installing Dependencies (again)](#installing-dependencies-again)\n",
    "    2. [Testing `ipycanvas`](#testing-ipycanvas)\n",
    "    3. [Testing `ipywidgets`](#testing-ipywidgets)\n",
    "    4. [Testing `pygame`](#testing-pygame)\n",
    "\n",
    "**Note** - To execute the code cells, select the arrow next to a cell:\n",
    "\n",
    "![executecheckimg](img/executecheck.png)\n",
    "\n",
    "You should see the following output from [Installing Dependencies (again)](#installing-dependencies-again)\n",
    "\n",
    "![executecheckoutimg](img/sanitycheckout.png)"
   ]
  },
  {
   "cell_type": "markdown",
   "metadata": {},
   "source": [
    "### Installing Dependencies (again)\n",
    "All of the following packages were intended to be installed in [Setting up VSCode](#setting-up-vscode). However, as a [sanity check](https://en.wikipedia.org/wiki/Sanity_check#:~:text=A%20sanity%20check%20or%20sanity,calculation%20can%20possibly%20be%20true.), we will perform the functionally equivalent operation in the `Jupyter Notebook` itself! The `%` operator here operates on the current `base interpreter` a.k.a. `kernel` a.k.a `python` installation the notebook is being \"served\" by."
   ]
  },
  {
   "cell_type": "code",
   "execution_count": null,
   "metadata": {},
   "outputs": [],
   "source": [
    "%pip install IPython ipykernel ipywidgets jupyter_client jupyter_core numpy pygame traitlets"
   ]
  },
  {
   "cell_type": "markdown",
   "metadata": {},
   "source": [
    "### Testing `ipycanvas`\n",
    "We will use `ipycanvas` to draw directly in the notebook!"
   ]
  },
  {
   "cell_type": "code",
   "execution_count": null,
   "metadata": {},
   "outputs": [],
   "source": [
    "import numpy as np\n",
    "from ipycanvas import Canvas\n",
    "\n",
    "n_particles = 100_000\n",
    "\n",
    "x = np.array(np.random.rayleigh(250, n_particles), dtype=np.int32)\n",
    "y = np.array(np.random.rayleigh(250, n_particles), dtype=np.int32)\n",
    "size = np.random.randint(1, 3, n_particles)\n",
    "\n",
    "canvas = Canvas(width=800, height=500)\n",
    "\n",
    "canvas.fill_style = \"green\"\n",
    "canvas.fill_rects(x, y, size)\n",
    "\n",
    "canvas"
   ]
  },
  {
   "cell_type": "markdown",
   "metadata": {},
   "source": [
    "### Testing `ipywidgets`\n",
    "We will use `ipywidgets` to make our game code snippets inside our notebook interactive."
   ]
  },
  {
   "cell_type": "code",
   "execution_count": 1,
   "metadata": {},
   "outputs": [
    {
     "data": {
      "application/vnd.jupyter.widget-view+json": {
       "model_id": "c76bf25276a84ccdb5acfb3f371be3d0",
       "version_major": 2,
       "version_minor": 0
      },
      "text/plain": [
       "IntSlider(value=0)"
      ]
     },
     "metadata": {},
     "output_type": "display_data"
    }
   ],
   "source": [
    "from IPython.display import display\n",
    "import ipywidgets as widgets\n",
    "\n",
    "widgets.IntSlider()\n",
    "w = widgets.IntSlider()\n",
    "display(w)"
   ]
  },
  {
   "cell_type": "markdown",
   "metadata": {},
   "source": [
    "### Testing `pygame`\n",
    "Lastly, we will use `pygame` to make a \"native\" application a.k.a `Win32 Application` a.k.a the `.exe` the thing you double-click on to run something! Running the following cell should open a new window with a black screen. It may not be focused when executed, so check your taskbar for a `python` icon!"
   ]
  },
  {
   "cell_type": "code",
   "execution_count": 18,
   "metadata": {},
   "outputs": [],
   "source": [
    "import pygame\n",
    "\n",
    "try:\n",
    "    pygame.init()\n",
    "\n",
    "    screen = pygame.display.set_mode((640, 480))\n",
    "    clock = pygame.time.Clock()\n",
    "\n",
    "    running = True\n",
    "    while running:\n",
    "        for event in pygame.event.get():\n",
    "            if event.type == pygame.QUIT:\n",
    "                running = False\n",
    "        \n",
    "        screen.fill(\"black\")\n",
    "        pygame.display.update()\n",
    "\n",
    "        clock.tick(60)\n",
    "\n",
    "except KeyboardInterrupt:\n",
    "    print(\"Pygame stopped via KeyboardInterrupt\")\n",
    "\n",
    "pygame.quit()"
   ]
  },
  {
   "cell_type": "markdown",
   "metadata": {},
   "source": [
    "### First commit <a name=\"commit\"></a>\n",
    "After testing your environment and successfully executing the above code cells, it's now time to save your work.\n",
    "\n",
    "You might think, \"What work? All I did was execute some code!\".\n",
    "\n",
    "With `GitHub Desktop`, we can see exactly what \"work\":\n",
    "\n",
    "![executecommitimg](img/executecommit.png)\n",
    "\n",
    "This implies that running a code cell that produces output *changes* the text *inside* the `Jupyter Notebook` a.k.a the `.ipynb`! We can commit these changes to practice saving our work. To do so with `GitHub Desktop` open:\n",
    "1. Add a Summary\n",
    "2. Add a Description (optional)\n",
    "3. Select `Commit to main` (saves the changes to your local repository)\n",
    "4. Select `Push origin` (pushes your local repository to GitHub)\n",
    "\n",
    "With that completed, we have reached the end of `00-Introduction` and its time to actually do game-related things!"
   ]
  }
 ],
 "metadata": {
  "kernelspec": {
   "display_name": "Python 3",
   "language": "python",
   "name": "python3"
  },
  "language_info": {
   "codemirror_mode": {
    "name": "ipython",
    "version": 3
   },
   "file_extension": ".py",
   "mimetype": "text/x-python",
   "name": "python",
   "nbconvert_exporter": "python",
   "pygments_lexer": "ipython3",
   "version": "3.10.6"
  }
 },
 "nbformat": 4,
 "nbformat_minor": 2
}
