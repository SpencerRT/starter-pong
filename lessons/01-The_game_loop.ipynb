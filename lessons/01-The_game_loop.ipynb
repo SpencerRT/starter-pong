{
    "cells": [
        {
            "cell_type": "markdown",
            "metadata": {},
            "source": [
                "### 01-The_game_loop\n",
                "The `game loop` is something that __all__ games have. I literally mean __all__. They come in different shapes and sizes depending on the game and engine, but at its core, what *is* the `game loop`? \n",
                "\n",
                "The synthesis of the `game loop` is the following:\n",
                "- A loop (typically a `while True` or a `while game_is_running`)\n",
                "- The following 3 steps *inside* the loop.\n",
                "    - User input is taken\n",
                "    - The game's values are updated\n",
                "    - Everything is rendered.\n",
                "\n",
                "That's it.\n",
                "\n",
                "Just about everything done during a frame of any game can be broken into one of those three steps. Seriously!\n",
                "\n",
                "Don't believe me? Let's do it right here right now."
            ]
        },
        {
            "cell_type": "markdown",
            "metadata": {},
            "source": [
                "### Guessing game\n",
                "Let's employ this new knowledge that a `game loop` is just 3 things by making a guessing game. Let's say that the game is this:\n",
                "1. The player is asked to guess a number.\n",
                "2. If the number guessed __*equals*__ some random number, the player wins the round. If not, the player loses the round.\n",
                "3. Each round, a new guess is taken, and is checked against a new random number.\n",
                "\n",
                "Let's get started with some *boilerplate*. We know our game will look like this:"
            ]
        },
        {
            "cell_type": "code",
            "execution_count": null,
            "metadata": {},
            "outputs": [],
            "source": [
                "# pass is used just to make these empty functions \"valid\" in python\n",
                "\n",
                "def take_user_input():\n",
                "    pass\n",
                "\n",
                "def update_game():\n",
                "    pass\n",
                "\n",
                "def render():\n",
                "    pass\n",
                "\n",
                "try:\n",
                "    while True:\n",
                "        take_user_input()\n",
                "        update_game()\n",
                "        render()\n",
                "\n",
                "except KeyboardInterrupt:\n",
                "    print(\"The game was stopped\")"
            ]
        },
        {
            "cell_type": "markdown",
            "metadata": {},
            "source": [
                "Truthfully this game isn't large enough that it necessitates functions, so let's toss them for now, and replace them with comments:"
            ]
        },
        {
            "cell_type": "code",
            "execution_count": null,
            "metadata": {
                "jupyter": {
                    "source_hidden": true
                }
            },
            "outputs": [],
            "source": [
                "try:\n",
                "    while True:\n",
                "        # take user input\n",
                "        # update game\n",
                "        # render\n",
                "        pass\n",
                "\n",
                "except KeyboardInterrupt:\n",
                "    print(\"The game was stopped\")"
            ]
        },
        {
            "cell_type": "markdown",
            "metadata": {},
            "source": [
                "Now let's start with `take user input`. `Python` has a handy dandy `input` [built-in function](https://docs.python.org/3/library/functions.html). Let's take that input and print it.\n",
                "\n",
                "**Note** - Using `input` is a bit wonky in `Jupyter Notebooks`. To exit the game without crashing the `kernel`, select the `stop execution` on the side of the cell, then input `Shift+Enter`."
            ]
        },
        {
            "cell_type": "code",
            "execution_count": null,
            "metadata": {
                "source_hidden": true
            },
            "outputs": [],
            "source": [
                "try:\n",
                "    while True:\n",
                "        # take user input\n",
                "        guess = input(\"Guess a number\")\n",
                "        print(guess)\n",
                "        # update game\n",
                "        # render\n",
                "        pass\n",
                "\n",
                "except KeyboardInterrupt:\n",
                "    print(\"The game was stopped\")"
            ]
        },
        {
            "cell_type": "markdown",
            "metadata": {},
            "source": [
                "Let's fix that wonkiness with `input` by adding a way for the user to exit the game in the first place. According to the [docs](https://docs.python.org/3/library/functions.html#input), `input` returns a `str`. Let's say if the user enters the string `exit`, then the game stops."
            ]
        }
    ],
    "metadata": {
        "kernelspec": {
            "display_name": "Python 3",
            "language": "python",
            "name": "python3"
        },
        "language_info": {
            "codemirror_mode": {
                "name": "ipython",
                "version": 3
            },
            "file_extension": ".py",
            "mimetype": "text/x-python",
            "name": "python",
            "nbconvert_exporter": "python",
            "pygments_lexer": "ipython3",
            "version": "3.10.6"
        }
    },
    "nbformat": 4,
    "nbformat_minor": 2
}