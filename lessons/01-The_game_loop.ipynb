{
    "cells": [
        {
            "cell_type": "markdown",
            "metadata": {},
            "source": [
                "### 01-The_game_loop\n",
                "The `game loop` is something that __all__ games have. I literally mean __all__. They come in different shapes and sizes depending on the game and engine, but at its core, what *is* the `game loop`? \n",
                "\n",
                "The synthesis of the `game loop` is the following:\n",
                "- A loop (typically a `while True` or a `while game_is_running`)\n",
                "- The following 3 steps *inside* the loop.\n",
                "    - User input is taken\n",
                "    - The game's values are updated\n",
                "    - Everything is rendered.\n",
                "\n",
                "That's it.\n",
                "\n",
                "Just about everything done during a frame of any game can be broken into one of those three steps. Seriously!\n",
                "\n",
                "Don't believe me? Let's do it right here right now."
            ]
        },
        {
            "cell_type": "markdown",
            "metadata": {},
            "source": [
                "### Guessing game\n",
                "Let's employ this new knowledge that a `game loop` is just 3 things by making a guessing game. Let's say that the game is this:\n",
                "1. The player is asked to guess a number.\n",
                "2. If the number guessed __*equals*__ some random number, the player wins the round. If not, the player loses the round.\n",
                "3. Each round, a new guess is taken, and is checked against a new random number.\n",
                "\n",
                "Let's get started with some *boilerplate*. We know our game will look like this:"
            ]
        },
        {
            "cell_type": "code",
            "execution_count": 1,
            "metadata": {},
            "outputs": [
                {
                    "name": "stdout",
                    "output_type": "stream",
                    "text": [
                        "The game was stopped\n"
                    ]
                }
            ],
            "source": [
                "# pass is used just to make these empty functions \"valid\" in python\n",
                "\n",
                "def take_user_input():\n",
                "    pass\n",
                "\n",
                "def update_game():\n",
                "    pass\n",
                "\n",
                "def render():\n",
                "    pass\n",
                "\n",
                "try:\n",
                "    while True:\n",
                "        take_user_input()\n",
                "        update_game()\n",
                "        render()\n",
                "\n",
                "except KeyboardInterrupt:\n",
                "    print(\"The game was stopped\")"
            ]
        },
        {
            "cell_type": "markdown",
            "metadata": {},
            "source": [
                "Truthfully this game isn't large enough that it necessitates functions, so let's toss them for now, and replace them with comments:"
            ]
        },
        {
            "cell_type": "code",
            "execution_count": null,
            "metadata": {
                "collapseState": {
                    "inputCollapsed": true,
                    "outputCollapsed": true
                },
                "jupyter": {
                    "source_hidden": true
                }
            },
            "outputs": [],
            "source": [
                "try:\n",
                "    while True:\n",
                "        # take user input\n",
                "        # update game\n",
                "        # render\n",
                "        pass\n",
                "\n",
                "except KeyboardInterrupt:\n",
                "    print(\"The game was stopped\")"
            ]
        },
        {
            "cell_type": "markdown",
            "metadata": {},
            "source": [
                "Now let's start with `take user input`. `Python` has a handy dandy `input` [built-in function](https://docs.python.org/3/library/functions.html). Let's take that input and print it.\n",
                "\n",
                "**Note** - Using `input` is a bit wonky in `Jupyter Notebooks`. To exit the game without crashing the `kernel`, select the `stop execution` on the side of the cell, then input `Shift+Enter`."
            ]
        },
        {
            "cell_type": "code",
            "execution_count": 2,
            "metadata": {
                "collapseState": {
                    "inputCollapsed": true,
                    "outputCollapsed": true
                },
                "source_hidden": true
            },
            "outputs": [
                {
                    "name": "stdout",
                    "output_type": "stream",
                    "text": [
                        "The game was stopped\n"
                    ]
                }
            ],
            "source": [
                "try:\n",
                "    while True:\n",
                "        # take user input\n",
                "        guess = input(\"Guess a number: \")\n",
                "        # update game\n",
                "        # render\n",
                "        print(guess)\n",
                "\n",
                "except KeyboardInterrupt:\n",
                "    print(\"The game was stopped\")"
            ]
        },
        {
            "cell_type": "markdown",
            "metadata": {},
            "source": [
                "### Adding a way to exit\n",
                "\n",
                "Let's fix that wonkiness with `input` by adding a way for the user to exit the game in the first place. According to the [docs](https://docs.python.org/3/library/functions.html#input), `input` returns a `str`. Let's say if the user enters the string `exit`, then the game stops."
            ]
        },
        {
            "cell_type": "code",
            "execution_count": null,
            "metadata": {},
            "outputs": [],
            "source": [
                "try:\n",
                "    while True:\n",
                "        # take user input\n",
                "        guess = input(\"Guess a number: \")\n",
                "        if guess == \"exit\":\n",
                "            break # break immediately exits any loop\n",
                "\n",
                "        # update game\n",
                "        # render\n",
                "        print(guess)\n",
                "\n",
                "except KeyboardInterrupt:\n",
                "    print(\"The game was stopped\")"
            ]
        },
        {
            "cell_type": "markdown",
            "metadata": {},
            "source": [
                "Sweet, now we have a `game loop` we can exit from without crashing. Now it's time to \"update the game\", i.e. check if our guess is *the* random number. First we need to get a random number in the first place, and to do so we will use the `python` standard library package `random`. Specifically, we will use `randint`. \n",
                "\n",
                "**Note** - This part can technically fall under either `take user input` or `update game` or **both**, depending on how you as a designer \"view\" taking a random number as an action. In this trivial example it doesn't matter, but as you write more complicated games, it may!"
            ]
        },
        {
            "cell_type": "code",
            "execution_count": null,
            "metadata": {},
            "outputs": [],
            "source": [
                "import random\n",
                "\n",
                "try:\n",
                "    while True:\n",
                "        # take user input\n",
                "        guess = input(\"Guess a number: \")\n",
                "        if guess == \"exit\":\n",
                "            break\n",
                "\n",
                "        random_num = random.randint(1, 5) # an integer number in the range [1, 5]\n",
                "\n",
                "        # update game\n",
                "        \n",
                "        # render\n",
                "        print(\"Your guess: \", guess)\n",
                "        print(\"The answer: \", random_num)\n",
                "\n",
                "except KeyboardInterrupt:\n",
                "    print(\"The game was stopped\")"
            ]
        },
        {
            "cell_type": "markdown",
            "metadata": {},
            "source": [
                "### Quiz 1\n",
                "Now it's actually time to `update game`, but it's your turn to start writing! Below is a trivial example of the logic we're going for with test cases. It's your job to complete the function (in this case `is_guess_correct()`) so that the test cases succeed.\n",
                "\n"
            ]
        },
        {
            "cell_type": "markdown",
            "metadata": {},
            "source": [
                "**Note** - You may have noticed `is_guess_correct` looks different than the other functions you've seen before in `python`. Most likely you're wondering what the whole `: int` and `-> bool` business is about. These are called **Typing Annotations**, they tell you what *types* this function expects to receive as arguments, and what *type* of value it returns. In this instance, `is_guess_correct` expects two `ints`, and returns a `bool`. \n",
                "\n",
                "`Python` is said to be a dynamically typed language, meaning variables can be any type they want at any time. This is great for flexibility, but can really cause problems in the creation of code for humans, if they don't remember what *types* of variables their code expects to work correctly. It's considered good practice to use typing annotations, and this guide takes liberties where it can, but for the sake of clearly communicating what is expected for you as a programmer, we'll use typing annotations for quizzes like this."
            ]
        },
        {
            "cell_type": "code",
            "execution_count": 3,
            "metadata": {},
            "outputs": [
                {
                    "name": "stdout",
                    "output_type": "stream",
                    "text": [
                        "Nice Job!\n"
                    ]
                }
            ],
            "source": [
                "def is_guess_correct(guess: int, answer: int) -> bool:\n",
                "    if guess == answer:\n",
                "        return True\n",
                "    else:\n",
                "        return False\n",
                "\n",
                "first_guess = 3\n",
                "second_guess = 1\n",
                "the_answer = 1\n",
                "\n",
                "# The assert built-in function throws an exception if the value passed to it is False\n",
                "# Passing these tests means no exceptions are thrown when running this cell.\n",
                "\n",
                "try:\n",
                "    assert(is_guess_correct(first_guess, the_answer) == False)\n",
                "    assert(is_guess_correct(second_guess, the_answer) == True)\n",
                "    print(\"Nice Job!\") # reaching this point in the code means no exceptions were thrown!\n",
                "except:\n",
                "    print(\"Oops, try again!\")"
            ]
        },
        {
            "cell_type": "markdown",
            "metadata": {},
            "source": [
                "### Putting it together\n",
                "\n",
                "With a proper `is_guess_correct` we now have a way to check and see if our user input (guess) is the same as our random number **i.e.** ***a way to update the game***. There's one last thing we need to remember before we throw it on in though. In `Python`, we are able to compare `primitives` without issue. What does that mean? It means we can use `boolean operators` where the operands are of different *types*. We can ask things like `6 == \"six\"` or `\"ten\" == 5.3`. To save some time, of course both of these *statements* result in `False`. Why is this important?\n",
                "\n",
                "Because according to the [docs](https://docs.python.org/3/library/functions.html#input), `input()` returns a `str`.\n",
                "\n",
                "That means if we were to just throw `is_guess_correct()` on in, then pass guess in as the first argument, then we'd never return `True` and you could never win.\n",
                "\n",
                "Therefore, we must convert `guess` from a `str` to an `int` *after* checking to see if `guess == \"exit\"`.\n",
                "\n",
                "Here's what that looks like:"
            ]
        },
        {
            "cell_type": "code",
            "execution_count": 5,
            "metadata": {},
            "outputs": [
                {
                    "name": "stdout",
                    "output_type": "stream",
                    "text": [
                        "You Lose!\n",
                        "Your guess:  3\n",
                        "The answer:  1\n",
                        "You Lose!\n",
                        "Your guess:  2\n",
                        "The answer:  5\n",
                        "You Lose!\n",
                        "Your guess:  1\n",
                        "The answer:  4\n",
                        "You Win!\n",
                        "Your guess:  1\n",
                        "The answer:  1\n"
                    ]
                }
            ],
            "source": [
                "import random\n",
                "\n",
                "def is_guess_correct(guess: int, answer: int) -> bool:\n",
                "    return guess == answer\n",
                "\n",
                "try:\n",
                "    while True:\n",
                "        # take user input\n",
                "        guess = input(\"Guess a number: \")\n",
                "        if guess == \"exit\":\n",
                "            break\n",
                "\n",
                "        random_num = random.randint(1, 5) # an integer number in the range [1, 5]\n",
                "\n",
                "        guess = int(guess) # converting guess to an int\n",
                "\n",
                "        # update game\n",
                "        player_has_won = False  # Flag signalling a player has won\n",
                "        if is_guess_correct(guess, random_num):\n",
                "            player_has_won = True\n",
                "\n",
                "        # render\n",
                "        if player_has_won:\n",
                "            print(\"You Win!\")\n",
                "        else:\n",
                "            print(\"You Lose!\")\n",
                "\n",
                "        print(\"Your guess: \", guess)\n",
                "        print(\"The answer: \", random_num)\n",
                "\n",
                "        # If player has won, exit\n",
                "        if player_has_won:\n",
                "            break\n",
                "\n",
                "except KeyboardInterrupt:\n",
                "    print(\"The game was stopped\")"
            ]
        },
        {
            "cell_type": "markdown",
            "metadata": {},
            "source": [
                "### That's it! (or is it?)\n",
                "\n",
                "Technically, the game is now **complete**. We have:\n",
                "- a way for the user to enter and exit the `game loop`\n",
                "- a way for the user to win or lose the game\n",
                "\n",
                "As it stands however, there is more we can add to this simple game. I think one last addition to make this game better would be to add a way to keep track of score.\n",
                "\n",
                "Right now, the guessing game does not keep track of how many guess have been made. Wouldn't be nice for the player to *know*? Let's figure out how to add it!\n"
            ]
        },
        {
            "cell_type": "markdown",
            "metadata": {},
            "source": [
                "### Cleanup\n",
                "Before we excited and start adding a feature like scoring, let's look to see if we can clean up our code a little bit.\n",
                "\n",
                "When we started, we opted to *remove* the 3 functions `take_user_input`, `update_game`, and `render` because we thought our game would be simple enough. This was and still is true, but we can do better now. We are seeking a way to add scoring to this game, and perhaps reorganizing our code into functions may make our game code more readable and easier to add to.\n",
                "\n",
                "What we are about to do is called `refactoring`. Refactoring is a critical part of not only game development but programming in general. In truth, there are a laundry list of benefits that come with refactoring, but what's nice is that you don't need to understand the *why* before knowing that you should be looking to do it *as often as you can*.\n",
                "\n",
                "The ability to refactor is a skill you will learn over experience. \n",
                "- The ***explicit*** way to get better at refactoring is to study software engineering and with practice.\n",
                "- The ***implicit*** way to get better at refactoring is to practice.\n",
                "\n",
                "The common denominator? __**Practice**__.\n",
                "\n",
                "We'll take care of your first refactor for you:"
            ]
        },
        {
            "cell_type": "code",
            "execution_count": 6,
            "metadata": {},
            "outputs": [],
            "source": [
                "def take_user_input() -> str:\n",
                "    '''\n",
                "    Returns the guess from the user as a str.\n",
                "    '''\n",
                "    return input(\"Guess a number: \")\n",
                "\n",
                "def update_game(guess: int, answer: int) -> bool:\n",
                "    '''\n",
                "    Returns whether or not the player has won.\n",
                "    '''\n",
                "    return is_guess_correct(guess, answer)\n",
                "\n",
                "def render(player_has_won: bool, guess: int, answer: int) -> None:\n",
                "    '''\n",
                "    Renders the result of this frame.\n",
                "    '''\n",
                "    if player_has_won:\n",
                "        print(\"You Win!\")\n",
                "    else:\n",
                "        print(\"You Lose!\")\n",
                "\n",
                "    print(\"Your guess: \", guess)\n",
                "    print(\"The answer: \", answer)\n",
                "\n",
                "\n",
                "# What our refactored game loop now looks like\n",
                "try:\n",
                "    while True:\n",
                "        guess = take_user_input()\n",
                "        \n",
                "        if guess == \"exit\":\n",
                "            break\n",
                "\n",
                "        random_num = random.randint(1, 5)\n",
                "\n",
                "        player_has_won = update_game(int(guess), random_num)\n",
                "        render(player_has_won, int(guess), random_num)\n",
                "\n",
                "        if player_has_won:\n",
                "            break\n",
                "\n",
                "\n",
                "\n",
                "except KeyboardInterrupt:\n",
                "    print(\"The game was stopped\")"
            ]
        },
        {
            "cell_type": "markdown",
            "metadata": {},
            "source": [
                "Perhaps the above is a little cleaner huh? I think now we're ready to add *scoring*. To do so we need a way to keep track of `game data`. What kinds of game data does this guessing game have? I can think of:\n",
                "\n",
                "- Current guess\n",
                "- The answer\n",
                "- How many guess have been made in total\n",
                "\n",
                "If we break these down into their likely *types*, it's:\n",
                "- int\n",
                "- int\n",
                "- int\n",
                "\n",
                "We so that our `game data` looks to just be a *structure* of three integers!\n",
                "\n",
                "This is where `objects` come in. For now we won't encapsulate this game data into a custom `object`, but keep this mind for when we start with `Pong`.\n",
                "\n",
                "For now, I think we can get away with a simple integer counter:"
            ]
        },
        {
            "cell_type": "code",
            "execution_count": 8,
            "metadata": {},
            "outputs": [
                {
                    "name": "stdout",
                    "output_type": "stream",
                    "text": [
                        "You Lose!\n",
                        "Your guess:  1\n",
                        "The answer:  5\n",
                        "Total guesses:  1\n",
                        "\n",
                        "You Lose!\n",
                        "Your guess:  1\n",
                        "The answer:  5\n",
                        "Total guesses:  2\n",
                        "\n",
                        "You Win!\n",
                        "Your guess:  1\n",
                        "The answer:  1\n",
                        "Total guesses:  3\n",
                        "\n"
                    ]
                }
            ],
            "source": [
                "def take_user_input() -> str:\n",
                "    '''\n",
                "    Returns the guess from the user as a str.\n",
                "    '''\n",
                "    return input(\"Guess a number: \")\n",
                "\n",
                "def update_game(guess: int, answer: int) -> bool:\n",
                "    '''\n",
                "    Returns whether or not the player has won.\n",
                "    '''\n",
                "    return is_guess_correct(guess, answer)\n",
                "\n",
                "def render(player_has_won: bool, guess: int, answer: int, total_guesses: int) -> None:\n",
                "    '''\n",
                "    Renders the result of this frame.\n",
                "    '''\n",
                "    if player_has_won:\n",
                "        print(\"You Win!\")\n",
                "    else:\n",
                "        print(\"You Lose!\")\n",
                "\n",
                "    print(\"Your guess: \", guess)\n",
                "    print(\"The answer: \", answer)\n",
                "    print(\"Total guesses: \", total_guesses)\n",
                "    print('\\n', end='') \n",
                "\n",
                "try:\n",
                "\n",
                "    total_guesses = 0\n",
                "\n",
                "    while True:\n",
                "        guess = take_user_input()\n",
                "        \n",
                "        if guess == \"exit\":\n",
                "            break\n",
                "\n",
                "        # If we're here, we know the user has made a guess instead of choosing to exit\n",
                "        total_guesses += 1\n",
                "\n",
                "        random_num = random.randint(1, 5)\n",
                "\n",
                "        player_has_won = update_game(int(guess), random_num)\n",
                "        render(player_has_won, int(guess), random_num, total_guesses)\n",
                "\n",
                "        if player_has_won:\n",
                "            break\n",
                "\n",
                "except KeyboardInterrupt:\n",
                "    print(\"The game was stopped\")"
            ]
        },
        {
            "cell_type": "markdown",
            "metadata": {},
            "source": [
                "That's that, your first game!\n",
                "\n",
                "To recap:\n",
                "\n",
                "The `game loop` looks this:\n",
                "```\n",
                "while True:\n",
                "    take_user_input()\n",
                "    update_game()\n",
                "    render()\n",
                "```"
            ]
        }
    ],
    "metadata": {
        "kernelspec": {
            "display_name": "Python 3",
            "language": "python",
            "name": "python3"
        },
        "language_info": {
            "codemirror_mode": {
                "name": "ipython",
                "version": 3
            },
            "file_extension": ".py",
            "mimetype": "text/x-python",
            "name": "python",
            "nbconvert_exporter": "python",
            "pygments_lexer": "ipython3",
            "version": "3.10.10"
        }
    },
    "nbformat": 4,
    "nbformat_minor": 2
}
